{
 "cells": [
  {
   "cell_type": "markdown",
   "metadata": {},
   "source": [
    "## Week 4, Lab 1: Predicting Left-Handedness from Psychological Factors\n",
    "> Author: Matt Brems\n",
    "\n",
    "We can sketch out the data science process as follows:\n",
    "1. Define the problem.\n",
    "2. Obtain the data.\n",
    "3. Explore the data.\n",
    "4. Model the data.\n",
    "5. Evaluate the model.\n",
    "6. Answer the problem.\n",
    "\n",
    "We'll walk through a full data science problem in this lab. \n",
    "- However, there are some additional questions along the way that don't fit neatly into the one main example we'll walk through. Any question that isn't explicitly part of the main example is marked with **(detour)** at the start of the question."
   ]
  },
  {
   "cell_type": "markdown",
   "metadata": {},
   "source": [
    "---\n",
    "## Step 1: Define The Problem.\n",
    "\n",
    "You're currently a data scientist working at a university. A professor of psychology is attempting to study the relationship between personalities and left-handedness. They have tasked you with gathering evidence so that they may publish.\n",
    "\n",
    "Specifically, the professor says \"I need to prove that left-handedness is caused by some personality trait. Go find that personality trait and the data to back it up.\"\n",
    "\n",
    "As a data scientist, you know that any real data science problem must be **specific** and **conclusively answerable**. For example:\n",
    "- Bad data science problem: \"What is the link between obesity and blood pressure?\"\n",
    "    - This is vague and is not conclusively answerable. That is, two people might look at the conclusion and one may say \"Sure, the problem has been answered!\" and the other may say \"The problem has not yet been answered.\"\n",
    "- Good data science problem: \"Does an association exist between obesity and blood pressure?\"\n",
    "    - This is more specific and is conclusively answerable. The problem specifically is asking for a \"Yes\" or \"No\" answer. Based on that, two independent people should both be able to say either \"Yes, the problem has been answered\" or \"No, the problem has not yet been answered.\"\n",
    "- Excellent data science problem: \"As obesity increases, how does blood pressure change?\"\n",
    "    - This is very specific and is conclusively answerable. The problem specifically seeks to understand the effect of one variable on the other.\n",
    "\n",
    "### 1. In the context of the left-handedness and personality example, what are three specific and conclusively answerable problems that you could answer using data science? \n",
    "\n",
    "> You might find it helpful to check out the codebook in the repo for some inspiration."
   ]
  },
  {
   "cell_type": "markdown",
   "metadata": {},
   "source": [
    "1. Which question(s) answered regarding a particular feature have high association with left-handedness?\n",
    "2. As an answer to a specific quesion changes, are people more or less likely to be left-handed?\n",
    "3. Does the distribution of handedness vary based one's response to questions?"
   ]
  },
  {
   "cell_type": "markdown",
   "metadata": {},
   "source": [
    "---\n",
    "## Step 2: Obtain the data.\n",
    "\n",
    "### 2. Read in the file titled \"data.csv.\"\n",
    "> Hint: Despite being saved as a .csv file, you won't be able to simply `pd.read_csv()` this data!"
   ]
  },
  {
   "cell_type": "code",
   "execution_count": 1,
   "metadata": {},
   "outputs": [],
   "source": [
    "import pandas as pd"
   ]
  },
  {
   "cell_type": "code",
   "execution_count": 3,
   "metadata": {},
   "outputs": [
    {
     "data": {
      "text/html": [
       "<div>\n",
       "<style scoped>\n",
       "    .dataframe tbody tr th:only-of-type {\n",
       "        vertical-align: middle;\n",
       "    }\n",
       "\n",
       "    .dataframe tbody tr th {\n",
       "        vertical-align: top;\n",
       "    }\n",
       "\n",
       "    .dataframe thead th {\n",
       "        text-align: right;\n",
       "    }\n",
       "</style>\n",
       "<table border=\"1\" class=\"dataframe\">\n",
       "  <thead>\n",
       "    <tr style=\"text-align: right;\">\n",
       "      <th></th>\n",
       "      <th>Q1</th>\n",
       "      <th>Q2</th>\n",
       "      <th>Q3</th>\n",
       "      <th>Q4</th>\n",
       "      <th>Q5</th>\n",
       "      <th>Q6</th>\n",
       "      <th>Q7</th>\n",
       "      <th>Q8</th>\n",
       "      <th>Q9</th>\n",
       "      <th>Q10</th>\n",
       "      <th>...</th>\n",
       "      <th>country</th>\n",
       "      <th>fromgoogle</th>\n",
       "      <th>engnat</th>\n",
       "      <th>age</th>\n",
       "      <th>education</th>\n",
       "      <th>gender</th>\n",
       "      <th>orientation</th>\n",
       "      <th>race</th>\n",
       "      <th>religion</th>\n",
       "      <th>hand</th>\n",
       "    </tr>\n",
       "  </thead>\n",
       "  <tbody>\n",
       "    <tr>\n",
       "      <td>0</td>\n",
       "      <td>4</td>\n",
       "      <td>1</td>\n",
       "      <td>5</td>\n",
       "      <td>1</td>\n",
       "      <td>5</td>\n",
       "      <td>1</td>\n",
       "      <td>5</td>\n",
       "      <td>1</td>\n",
       "      <td>4</td>\n",
       "      <td>1</td>\n",
       "      <td>...</td>\n",
       "      <td>US</td>\n",
       "      <td>2</td>\n",
       "      <td>1</td>\n",
       "      <td>22</td>\n",
       "      <td>3</td>\n",
       "      <td>1</td>\n",
       "      <td>1</td>\n",
       "      <td>3</td>\n",
       "      <td>2</td>\n",
       "      <td>3</td>\n",
       "    </tr>\n",
       "    <tr>\n",
       "      <td>1</td>\n",
       "      <td>1</td>\n",
       "      <td>5</td>\n",
       "      <td>1</td>\n",
       "      <td>4</td>\n",
       "      <td>2</td>\n",
       "      <td>5</td>\n",
       "      <td>5</td>\n",
       "      <td>4</td>\n",
       "      <td>1</td>\n",
       "      <td>5</td>\n",
       "      <td>...</td>\n",
       "      <td>CA</td>\n",
       "      <td>2</td>\n",
       "      <td>1</td>\n",
       "      <td>14</td>\n",
       "      <td>1</td>\n",
       "      <td>2</td>\n",
       "      <td>2</td>\n",
       "      <td>6</td>\n",
       "      <td>1</td>\n",
       "      <td>1</td>\n",
       "    </tr>\n",
       "    <tr>\n",
       "      <td>2</td>\n",
       "      <td>1</td>\n",
       "      <td>2</td>\n",
       "      <td>1</td>\n",
       "      <td>1</td>\n",
       "      <td>5</td>\n",
       "      <td>4</td>\n",
       "      <td>3</td>\n",
       "      <td>2</td>\n",
       "      <td>1</td>\n",
       "      <td>4</td>\n",
       "      <td>...</td>\n",
       "      <td>NL</td>\n",
       "      <td>2</td>\n",
       "      <td>2</td>\n",
       "      <td>30</td>\n",
       "      <td>4</td>\n",
       "      <td>1</td>\n",
       "      <td>1</td>\n",
       "      <td>1</td>\n",
       "      <td>1</td>\n",
       "      <td>2</td>\n",
       "    </tr>\n",
       "    <tr>\n",
       "      <td>3</td>\n",
       "      <td>1</td>\n",
       "      <td>4</td>\n",
       "      <td>1</td>\n",
       "      <td>5</td>\n",
       "      <td>1</td>\n",
       "      <td>4</td>\n",
       "      <td>5</td>\n",
       "      <td>4</td>\n",
       "      <td>3</td>\n",
       "      <td>5</td>\n",
       "      <td>...</td>\n",
       "      <td>US</td>\n",
       "      <td>2</td>\n",
       "      <td>1</td>\n",
       "      <td>18</td>\n",
       "      <td>2</td>\n",
       "      <td>2</td>\n",
       "      <td>5</td>\n",
       "      <td>3</td>\n",
       "      <td>2</td>\n",
       "      <td>2</td>\n",
       "    </tr>\n",
       "    <tr>\n",
       "      <td>4</td>\n",
       "      <td>5</td>\n",
       "      <td>1</td>\n",
       "      <td>5</td>\n",
       "      <td>1</td>\n",
       "      <td>5</td>\n",
       "      <td>1</td>\n",
       "      <td>5</td>\n",
       "      <td>1</td>\n",
       "      <td>3</td>\n",
       "      <td>1</td>\n",
       "      <td>...</td>\n",
       "      <td>US</td>\n",
       "      <td>2</td>\n",
       "      <td>1</td>\n",
       "      <td>22</td>\n",
       "      <td>3</td>\n",
       "      <td>1</td>\n",
       "      <td>1</td>\n",
       "      <td>3</td>\n",
       "      <td>2</td>\n",
       "      <td>3</td>\n",
       "    </tr>\n",
       "  </tbody>\n",
       "</table>\n",
       "<p>5 rows × 56 columns</p>\n",
       "</div>"
      ],
      "text/plain": [
       "   Q1  Q2  Q3  Q4  Q5  Q6  Q7  Q8  Q9  Q10  ...  country  fromgoogle  engnat  \\\n",
       "0   4   1   5   1   5   1   5   1   4    1  ...       US           2       1   \n",
       "1   1   5   1   4   2   5   5   4   1    5  ...       CA           2       1   \n",
       "2   1   2   1   1   5   4   3   2   1    4  ...       NL           2       2   \n",
       "3   1   4   1   5   1   4   5   4   3    5  ...       US           2       1   \n",
       "4   5   1   5   1   5   1   5   1   3    1  ...       US           2       1   \n",
       "\n",
       "   age  education  gender  orientation  race  religion  hand  \n",
       "0   22          3       1            1     3         2     3  \n",
       "1   14          1       2            2     6         1     1  \n",
       "2   30          4       1            1     1         1     2  \n",
       "3   18          2       2            5     3         2     2  \n",
       "4   22          3       1            1     3         2     3  \n",
       "\n",
       "[5 rows x 56 columns]"
      ]
     },
     "execution_count": 3,
     "metadata": {},
     "output_type": "execute_result"
    }
   ],
   "source": [
    "df = pd.read_csv(\"../4_01-lab-classification_model_comparison/data.csv\",sep='\\t')\n",
    "df.head()"
   ]
  },
  {
   "cell_type": "markdown",
   "metadata": {},
   "source": [
    "### 3. Suppose that, instead of us giving you this data in a file, you were actually conducting a survey to gather this data yourself. From an ethics/privacy point of view, what are three things you might consider when attempting to gather this data?\n",
    "> When working with sensitive data like sexual orientation or gender identity, we need to consider how this data could be used if it fell into the wrong hands!"
   ]
  },
  {
   "cell_type": "code",
   "execution_count": 6,
   "metadata": {},
   "outputs": [
    {
     "data": {
      "text/plain": [
       "array([1, 2, 3, 0])"
      ]
     },
     "execution_count": 6,
     "metadata": {},
     "output_type": "execute_result"
    }
   ],
   "source": [
    "df.gender.unique()"
   ]
  },
  {
   "cell_type": "markdown",
   "metadata": {},
   "source": [
    "1. We should question whether or not we need to gather the sexual orientation/gender identity data. If it is necessary for what we want to study, then we need to be smart about including it. If it not necessary, then we should not be gathering this data!\n",
    "\n",
    "2. If the survey is not optional already, make it optional. If we're only including surveys that are complete, we should allow for people to complete only certain questions instead of making all questions required.\n",
    "\n",
    "3. We should collect this data anonymously, not confidentially. Anonymously means we do not collect personally identifiable information (PII). Confidential means we collect PII but we don't make that available to others. If we have access to names or social security numbers, it means that someone could hack us and connect names/SSNs with gender, orientation, etc. Instead, we should collect the data without names or anything so that even if our data are hacked, it is much harder to connect responses with an individual.\n",
    "\n",
    "4. From the perspective of inclusivity, we want to make sure our responses fit everyone trying to respond. For example, for the gender category, we should at minimum have a male, female, and other category. However, we might consider including options for transgender individuals, having only a fill-in-the-blank response instead of explicit choices, and/or having \"prefer to not answer\" category.\n",
    "\n",
    "5. For a particularly advanced option, there's an area of study called differential privacy that allows us to study population-level effects without exposing any individual. Consider the following example:\n",
    "\n",
    "Have each respondent flip a coin.\n",
    "If the respondent flips heads, have them answer the \"gender\" question honestly.\n",
    "If the respondent flips tails, have them answer the \"gender\" question with \"transgender.\"\n",
    "This way, an individual who answers \"transgender\" may or may not actually be transgender. Someone who hacks the data would never be able to know who truly identifies as transgender versus who identifies as transgender based on the coin flip. However, because we know approximately how many coin flips should be heads versus tails, we can estimate the percentage of individuals who are transgender. This allows us to study what we want to study but also allows us to maintain privacy for individuals!"
   ]
  },
  {
   "cell_type": "markdown",
   "metadata": {},
   "source": [
    "---\n",
    "## Step 3: Explore the data.\n",
    "\n",
    "### 4. Conduct exploratory data analysis on this dataset.\n",
    "> If you haven't already, be sure to check out the codebook in the repo, as that will help in your EDA process."
   ]
  },
  {
   "cell_type": "code",
   "execution_count": 7,
   "metadata": {},
   "outputs": [
    {
     "data": {
      "text/plain": [
       "Index(['Q1', 'Q2', 'Q3', 'Q4', 'Q5', 'Q6', 'Q7', 'Q8', 'Q9', 'Q10', 'Q11',\n",
       "       'Q12', 'Q13', 'Q14', 'Q15', 'Q16', 'Q17', 'Q18', 'Q19', 'Q20', 'Q21',\n",
       "       'Q22', 'Q23', 'Q24', 'Q25', 'Q26', 'Q27', 'Q28', 'Q29', 'Q30', 'Q31',\n",
       "       'Q32', 'Q33', 'Q34', 'Q35', 'Q36', 'Q37', 'Q38', 'Q39', 'Q40', 'Q41',\n",
       "       'Q42', 'Q43', 'Q44', 'introelapse', 'testelapse', 'country',\n",
       "       'fromgoogle', 'engnat', 'age', 'education', 'gender', 'orientation',\n",
       "       'race', 'religion', 'hand'],\n",
       "      dtype='object')"
      ]
     },
     "execution_count": 7,
     "metadata": {},
     "output_type": "execute_result"
    }
   ],
   "source": [
    "df.columns"
   ]
  },
  {
   "cell_type": "code",
   "execution_count": 8,
   "metadata": {
    "scrolled": true
   },
   "outputs": [
    {
     "data": {
      "text/html": [
       "<div>\n",
       "<style scoped>\n",
       "    .dataframe tbody tr th:only-of-type {\n",
       "        vertical-align: middle;\n",
       "    }\n",
       "\n",
       "    .dataframe tbody tr th {\n",
       "        vertical-align: top;\n",
       "    }\n",
       "\n",
       "    .dataframe thead th {\n",
       "        text-align: right;\n",
       "    }\n",
       "</style>\n",
       "<table border=\"1\" class=\"dataframe\">\n",
       "  <thead>\n",
       "    <tr style=\"text-align: right;\">\n",
       "      <th></th>\n",
       "      <th>Q1</th>\n",
       "      <th>Q2</th>\n",
       "      <th>Q3</th>\n",
       "      <th>Q4</th>\n",
       "      <th>Q5</th>\n",
       "      <th>Q6</th>\n",
       "      <th>Q7</th>\n",
       "      <th>Q8</th>\n",
       "      <th>Q9</th>\n",
       "      <th>Q10</th>\n",
       "      <th>...</th>\n",
       "      <th>country</th>\n",
       "      <th>fromgoogle</th>\n",
       "      <th>engnat</th>\n",
       "      <th>age</th>\n",
       "      <th>education</th>\n",
       "      <th>gender</th>\n",
       "      <th>orientation</th>\n",
       "      <th>race</th>\n",
       "      <th>religion</th>\n",
       "      <th>hand</th>\n",
       "    </tr>\n",
       "  </thead>\n",
       "  <tbody>\n",
       "    <tr>\n",
       "      <td>count</td>\n",
       "      <td>4184.000000</td>\n",
       "      <td>4184.000000</td>\n",
       "      <td>4184.000000</td>\n",
       "      <td>4184.000000</td>\n",
       "      <td>4184.000000</td>\n",
       "      <td>4184.000000</td>\n",
       "      <td>4184.000000</td>\n",
       "      <td>4184.000000</td>\n",
       "      <td>4184.000000</td>\n",
       "      <td>4184.000000</td>\n",
       "      <td>...</td>\n",
       "      <td>4184</td>\n",
       "      <td>4184.000000</td>\n",
       "      <td>4184.000000</td>\n",
       "      <td>4184.000000</td>\n",
       "      <td>4184.000000</td>\n",
       "      <td>4184.000000</td>\n",
       "      <td>4184.000000</td>\n",
       "      <td>4184.000000</td>\n",
       "      <td>4184.000000</td>\n",
       "      <td>4184.000000</td>\n",
       "    </tr>\n",
       "    <tr>\n",
       "      <td>unique</td>\n",
       "      <td>NaN</td>\n",
       "      <td>NaN</td>\n",
       "      <td>NaN</td>\n",
       "      <td>NaN</td>\n",
       "      <td>NaN</td>\n",
       "      <td>NaN</td>\n",
       "      <td>NaN</td>\n",
       "      <td>NaN</td>\n",
       "      <td>NaN</td>\n",
       "      <td>NaN</td>\n",
       "      <td>...</td>\n",
       "      <td>94</td>\n",
       "      <td>NaN</td>\n",
       "      <td>NaN</td>\n",
       "      <td>NaN</td>\n",
       "      <td>NaN</td>\n",
       "      <td>NaN</td>\n",
       "      <td>NaN</td>\n",
       "      <td>NaN</td>\n",
       "      <td>NaN</td>\n",
       "      <td>NaN</td>\n",
       "    </tr>\n",
       "    <tr>\n",
       "      <td>top</td>\n",
       "      <td>NaN</td>\n",
       "      <td>NaN</td>\n",
       "      <td>NaN</td>\n",
       "      <td>NaN</td>\n",
       "      <td>NaN</td>\n",
       "      <td>NaN</td>\n",
       "      <td>NaN</td>\n",
       "      <td>NaN</td>\n",
       "      <td>NaN</td>\n",
       "      <td>NaN</td>\n",
       "      <td>...</td>\n",
       "      <td>US</td>\n",
       "      <td>NaN</td>\n",
       "      <td>NaN</td>\n",
       "      <td>NaN</td>\n",
       "      <td>NaN</td>\n",
       "      <td>NaN</td>\n",
       "      <td>NaN</td>\n",
       "      <td>NaN</td>\n",
       "      <td>NaN</td>\n",
       "      <td>NaN</td>\n",
       "    </tr>\n",
       "    <tr>\n",
       "      <td>freq</td>\n",
       "      <td>NaN</td>\n",
       "      <td>NaN</td>\n",
       "      <td>NaN</td>\n",
       "      <td>NaN</td>\n",
       "      <td>NaN</td>\n",
       "      <td>NaN</td>\n",
       "      <td>NaN</td>\n",
       "      <td>NaN</td>\n",
       "      <td>NaN</td>\n",
       "      <td>NaN</td>\n",
       "      <td>...</td>\n",
       "      <td>2468</td>\n",
       "      <td>NaN</td>\n",
       "      <td>NaN</td>\n",
       "      <td>NaN</td>\n",
       "      <td>NaN</td>\n",
       "      <td>NaN</td>\n",
       "      <td>NaN</td>\n",
       "      <td>NaN</td>\n",
       "      <td>NaN</td>\n",
       "      <td>NaN</td>\n",
       "    </tr>\n",
       "    <tr>\n",
       "      <td>mean</td>\n",
       "      <td>1.962715</td>\n",
       "      <td>3.829589</td>\n",
       "      <td>2.846558</td>\n",
       "      <td>3.186902</td>\n",
       "      <td>2.865440</td>\n",
       "      <td>3.672084</td>\n",
       "      <td>3.216539</td>\n",
       "      <td>3.184512</td>\n",
       "      <td>2.761233</td>\n",
       "      <td>3.522945</td>\n",
       "      <td>...</td>\n",
       "      <td>NaN</td>\n",
       "      <td>1.576243</td>\n",
       "      <td>1.239962</td>\n",
       "      <td>30.370698</td>\n",
       "      <td>2.317878</td>\n",
       "      <td>1.654398</td>\n",
       "      <td>1.833413</td>\n",
       "      <td>5.013623</td>\n",
       "      <td>2.394359</td>\n",
       "      <td>1.190966</td>\n",
       "    </tr>\n",
       "    <tr>\n",
       "      <td>std</td>\n",
       "      <td>1.360291</td>\n",
       "      <td>1.551683</td>\n",
       "      <td>1.664804</td>\n",
       "      <td>1.476879</td>\n",
       "      <td>1.545798</td>\n",
       "      <td>1.342238</td>\n",
       "      <td>1.490733</td>\n",
       "      <td>1.387382</td>\n",
       "      <td>1.511805</td>\n",
       "      <td>1.242890</td>\n",
       "      <td>...</td>\n",
       "      <td>NaN</td>\n",
       "      <td>0.494212</td>\n",
       "      <td>0.440882</td>\n",
       "      <td>367.201726</td>\n",
       "      <td>0.874264</td>\n",
       "      <td>0.640915</td>\n",
       "      <td>1.303454</td>\n",
       "      <td>1.970996</td>\n",
       "      <td>2.184164</td>\n",
       "      <td>0.495357</td>\n",
       "    </tr>\n",
       "    <tr>\n",
       "      <td>min</td>\n",
       "      <td>0.000000</td>\n",
       "      <td>0.000000</td>\n",
       "      <td>0.000000</td>\n",
       "      <td>0.000000</td>\n",
       "      <td>0.000000</td>\n",
       "      <td>0.000000</td>\n",
       "      <td>0.000000</td>\n",
       "      <td>0.000000</td>\n",
       "      <td>0.000000</td>\n",
       "      <td>0.000000</td>\n",
       "      <td>...</td>\n",
       "      <td>NaN</td>\n",
       "      <td>1.000000</td>\n",
       "      <td>0.000000</td>\n",
       "      <td>13.000000</td>\n",
       "      <td>0.000000</td>\n",
       "      <td>0.000000</td>\n",
       "      <td>0.000000</td>\n",
       "      <td>0.000000</td>\n",
       "      <td>0.000000</td>\n",
       "      <td>0.000000</td>\n",
       "    </tr>\n",
       "    <tr>\n",
       "      <td>25%</td>\n",
       "      <td>1.000000</td>\n",
       "      <td>3.000000</td>\n",
       "      <td>1.000000</td>\n",
       "      <td>2.000000</td>\n",
       "      <td>1.000000</td>\n",
       "      <td>3.000000</td>\n",
       "      <td>2.000000</td>\n",
       "      <td>2.000000</td>\n",
       "      <td>1.000000</td>\n",
       "      <td>3.000000</td>\n",
       "      <td>...</td>\n",
       "      <td>NaN</td>\n",
       "      <td>1.000000</td>\n",
       "      <td>1.000000</td>\n",
       "      <td>18.000000</td>\n",
       "      <td>2.000000</td>\n",
       "      <td>1.000000</td>\n",
       "      <td>1.000000</td>\n",
       "      <td>5.000000</td>\n",
       "      <td>1.000000</td>\n",
       "      <td>1.000000</td>\n",
       "    </tr>\n",
       "    <tr>\n",
       "      <td>50%</td>\n",
       "      <td>1.000000</td>\n",
       "      <td>5.000000</td>\n",
       "      <td>3.000000</td>\n",
       "      <td>3.000000</td>\n",
       "      <td>3.000000</td>\n",
       "      <td>4.000000</td>\n",
       "      <td>3.000000</td>\n",
       "      <td>3.000000</td>\n",
       "      <td>3.000000</td>\n",
       "      <td>4.000000</td>\n",
       "      <td>...</td>\n",
       "      <td>NaN</td>\n",
       "      <td>2.000000</td>\n",
       "      <td>1.000000</td>\n",
       "      <td>21.000000</td>\n",
       "      <td>2.000000</td>\n",
       "      <td>2.000000</td>\n",
       "      <td>1.000000</td>\n",
       "      <td>6.000000</td>\n",
       "      <td>2.000000</td>\n",
       "      <td>1.000000</td>\n",
       "    </tr>\n",
       "    <tr>\n",
       "      <td>75%</td>\n",
       "      <td>3.000000</td>\n",
       "      <td>5.000000</td>\n",
       "      <td>5.000000</td>\n",
       "      <td>5.000000</td>\n",
       "      <td>4.000000</td>\n",
       "      <td>5.000000</td>\n",
       "      <td>5.000000</td>\n",
       "      <td>4.000000</td>\n",
       "      <td>4.000000</td>\n",
       "      <td>5.000000</td>\n",
       "      <td>...</td>\n",
       "      <td>NaN</td>\n",
       "      <td>2.000000</td>\n",
       "      <td>1.000000</td>\n",
       "      <td>27.000000</td>\n",
       "      <td>3.000000</td>\n",
       "      <td>2.000000</td>\n",
       "      <td>2.000000</td>\n",
       "      <td>6.000000</td>\n",
       "      <td>2.000000</td>\n",
       "      <td>1.000000</td>\n",
       "    </tr>\n",
       "    <tr>\n",
       "      <td>max</td>\n",
       "      <td>5.000000</td>\n",
       "      <td>5.000000</td>\n",
       "      <td>5.000000</td>\n",
       "      <td>5.000000</td>\n",
       "      <td>5.000000</td>\n",
       "      <td>5.000000</td>\n",
       "      <td>5.000000</td>\n",
       "      <td>5.000000</td>\n",
       "      <td>5.000000</td>\n",
       "      <td>5.000000</td>\n",
       "      <td>...</td>\n",
       "      <td>NaN</td>\n",
       "      <td>2.000000</td>\n",
       "      <td>2.000000</td>\n",
       "      <td>23763.000000</td>\n",
       "      <td>4.000000</td>\n",
       "      <td>3.000000</td>\n",
       "      <td>5.000000</td>\n",
       "      <td>7.000000</td>\n",
       "      <td>7.000000</td>\n",
       "      <td>3.000000</td>\n",
       "    </tr>\n",
       "  </tbody>\n",
       "</table>\n",
       "<p>11 rows × 56 columns</p>\n",
       "</div>"
      ],
      "text/plain": [
       "                 Q1           Q2           Q3           Q4           Q5  \\\n",
       "count   4184.000000  4184.000000  4184.000000  4184.000000  4184.000000   \n",
       "unique          NaN          NaN          NaN          NaN          NaN   \n",
       "top             NaN          NaN          NaN          NaN          NaN   \n",
       "freq            NaN          NaN          NaN          NaN          NaN   \n",
       "mean       1.962715     3.829589     2.846558     3.186902     2.865440   \n",
       "std        1.360291     1.551683     1.664804     1.476879     1.545798   \n",
       "min        0.000000     0.000000     0.000000     0.000000     0.000000   \n",
       "25%        1.000000     3.000000     1.000000     2.000000     1.000000   \n",
       "50%        1.000000     5.000000     3.000000     3.000000     3.000000   \n",
       "75%        3.000000     5.000000     5.000000     5.000000     4.000000   \n",
       "max        5.000000     5.000000     5.000000     5.000000     5.000000   \n",
       "\n",
       "                 Q6           Q7           Q8           Q9          Q10  ...  \\\n",
       "count   4184.000000  4184.000000  4184.000000  4184.000000  4184.000000  ...   \n",
       "unique          NaN          NaN          NaN          NaN          NaN  ...   \n",
       "top             NaN          NaN          NaN          NaN          NaN  ...   \n",
       "freq            NaN          NaN          NaN          NaN          NaN  ...   \n",
       "mean       3.672084     3.216539     3.184512     2.761233     3.522945  ...   \n",
       "std        1.342238     1.490733     1.387382     1.511805     1.242890  ...   \n",
       "min        0.000000     0.000000     0.000000     0.000000     0.000000  ...   \n",
       "25%        3.000000     2.000000     2.000000     1.000000     3.000000  ...   \n",
       "50%        4.000000     3.000000     3.000000     3.000000     4.000000  ...   \n",
       "75%        5.000000     5.000000     4.000000     4.000000     5.000000  ...   \n",
       "max        5.000000     5.000000     5.000000     5.000000     5.000000  ...   \n",
       "\n",
       "        country   fromgoogle       engnat           age    education  \\\n",
       "count      4184  4184.000000  4184.000000   4184.000000  4184.000000   \n",
       "unique       94          NaN          NaN           NaN          NaN   \n",
       "top          US          NaN          NaN           NaN          NaN   \n",
       "freq       2468          NaN          NaN           NaN          NaN   \n",
       "mean        NaN     1.576243     1.239962     30.370698     2.317878   \n",
       "std         NaN     0.494212     0.440882    367.201726     0.874264   \n",
       "min         NaN     1.000000     0.000000     13.000000     0.000000   \n",
       "25%         NaN     1.000000     1.000000     18.000000     2.000000   \n",
       "50%         NaN     2.000000     1.000000     21.000000     2.000000   \n",
       "75%         NaN     2.000000     1.000000     27.000000     3.000000   \n",
       "max         NaN     2.000000     2.000000  23763.000000     4.000000   \n",
       "\n",
       "             gender  orientation         race     religion         hand  \n",
       "count   4184.000000  4184.000000  4184.000000  4184.000000  4184.000000  \n",
       "unique          NaN          NaN          NaN          NaN          NaN  \n",
       "top             NaN          NaN          NaN          NaN          NaN  \n",
       "freq            NaN          NaN          NaN          NaN          NaN  \n",
       "mean       1.654398     1.833413     5.013623     2.394359     1.190966  \n",
       "std        0.640915     1.303454     1.970996     2.184164     0.495357  \n",
       "min        0.000000     0.000000     0.000000     0.000000     0.000000  \n",
       "25%        1.000000     1.000000     5.000000     1.000000     1.000000  \n",
       "50%        2.000000     1.000000     6.000000     2.000000     1.000000  \n",
       "75%        2.000000     2.000000     6.000000     2.000000     1.000000  \n",
       "max        3.000000     5.000000     7.000000     7.000000     3.000000  \n",
       "\n",
       "[11 rows x 56 columns]"
      ]
     },
     "execution_count": 8,
     "metadata": {},
     "output_type": "execute_result"
    }
   ],
   "source": [
    "df.describe(include = 'all')"
   ]
  },
  {
   "cell_type": "code",
   "execution_count": 9,
   "metadata": {},
   "outputs": [
    {
     "data": {
      "text/plain": [
       "Q1             0\n",
       "Q2             0\n",
       "Q3             0\n",
       "Q4             0\n",
       "Q5             0\n",
       "Q6             0\n",
       "Q7             0\n",
       "Q8             0\n",
       "Q9             0\n",
       "Q10            0\n",
       "Q11            0\n",
       "Q12            0\n",
       "Q13            0\n",
       "Q14            0\n",
       "Q15            0\n",
       "Q16            0\n",
       "Q17            0\n",
       "Q18            0\n",
       "Q19            0\n",
       "Q20            0\n",
       "Q21            0\n",
       "Q22            0\n",
       "Q23            0\n",
       "Q24            0\n",
       "Q25            0\n",
       "Q26            0\n",
       "Q27            0\n",
       "Q28            0\n",
       "Q29            0\n",
       "Q30            0\n",
       "Q31            0\n",
       "Q32            0\n",
       "Q33            0\n",
       "Q34            0\n",
       "Q35            0\n",
       "Q36            0\n",
       "Q37            0\n",
       "Q38            0\n",
       "Q39            0\n",
       "Q40            0\n",
       "Q41            0\n",
       "Q42            0\n",
       "Q43            0\n",
       "Q44            0\n",
       "introelapse    0\n",
       "testelapse     0\n",
       "country        0\n",
       "fromgoogle     0\n",
       "engnat         0\n",
       "age            0\n",
       "education      0\n",
       "gender         0\n",
       "orientation    0\n",
       "race           0\n",
       "religion       0\n",
       "hand           0\n",
       "dtype: int64"
      ]
     },
     "execution_count": 9,
     "metadata": {},
     "output_type": "execute_result"
    }
   ],
   "source": [
    "df.isnull().sum()"
   ]
  },
  {
   "cell_type": "markdown",
   "metadata": {},
   "source": [
    "Indicates that there is no missing data!"
   ]
  },
  {
   "cell_type": "code",
   "execution_count": 14,
   "metadata": {},
   "outputs": [
    {
     "data": {
      "text/plain": [
       "Q1              int64\n",
       "Q2              int64\n",
       "Q3              int64\n",
       "Q4              int64\n",
       "Q5              int64\n",
       "Q6              int64\n",
       "Q7              int64\n",
       "Q8              int64\n",
       "Q9              int64\n",
       "Q10             int64\n",
       "Q11             int64\n",
       "Q12             int64\n",
       "Q13             int64\n",
       "Q14             int64\n",
       "Q15             int64\n",
       "Q16             int64\n",
       "Q17             int64\n",
       "Q18             int64\n",
       "Q19             int64\n",
       "Q20             int64\n",
       "Q21             int64\n",
       "Q22             int64\n",
       "Q23             int64\n",
       "Q24             int64\n",
       "Q25             int64\n",
       "Q26             int64\n",
       "Q27             int64\n",
       "Q28             int64\n",
       "Q29             int64\n",
       "Q30             int64\n",
       "Q31             int64\n",
       "Q32             int64\n",
       "Q33             int64\n",
       "Q34             int64\n",
       "Q35             int64\n",
       "Q36             int64\n",
       "Q37             int64\n",
       "Q38             int64\n",
       "Q39             int64\n",
       "Q40             int64\n",
       "Q41             int64\n",
       "Q42             int64\n",
       "Q43             int64\n",
       "Q44             int64\n",
       "introelapse     int64\n",
       "testelapse      int64\n",
       "country        object\n",
       "fromgoogle      int64\n",
       "engnat          int64\n",
       "age             int64\n",
       "education       int64\n",
       "gender          int64\n",
       "orientation     int64\n",
       "race            int64\n",
       "religion        int64\n",
       "hand            int64\n",
       "dtype: object"
      ]
     },
     "execution_count": 14,
     "metadata": {},
     "output_type": "execute_result"
    }
   ],
   "source": [
    "df.dtypes"
   ]
  },
  {
   "cell_type": "code",
   "execution_count": 27,
   "metadata": {},
   "outputs": [],
   "source": [
    "import numpy as np\n",
    "import matplotlib.pyplot as plt\n",
    "import scipy.stats as stats\n",
    "import pandas as pd\n",
    "import seaborn as sns\n",
    "\n",
    "%matplotlib inline"
   ]
  },
  {
   "cell_type": "code",
   "execution_count": 52,
   "metadata": {},
   "outputs": [],
   "source": [
    "selected_df = df.drop(columns=['introelapse', 'testelapse', 'country',\n",
    "                      'fromgoogle', 'engnat', 'age', 'education',\n",
    "                      'gender', 'orientation', 'race', 'religion',\n",
    "                      'hand'], axis = 1)"
   ]
  },
  {
   "cell_type": "code",
   "execution_count": 53,
   "metadata": {},
   "outputs": [
    {
     "data": {
      "text/plain": [
       "Index(['Q1', 'Q2', 'Q3', 'Q4', 'Q5', 'Q6', 'Q7', 'Q8', 'Q9', 'Q10', 'Q11',\n",
       "       'Q12', 'Q13', 'Q14', 'Q15', 'Q16', 'Q17', 'Q18', 'Q19', 'Q20', 'Q21',\n",
       "       'Q22', 'Q23', 'Q24', 'Q25', 'Q26', 'Q27', 'Q28', 'Q29', 'Q30', 'Q31',\n",
       "       'Q32', 'Q33', 'Q34', 'Q35', 'Q36', 'Q37', 'Q38', 'Q39', 'Q40', 'Q41',\n",
       "       'Q42', 'Q43', 'Q44'],\n",
       "      dtype='object')"
      ]
     },
     "execution_count": 53,
     "metadata": {},
     "output_type": "execute_result"
    }
   ],
   "source": [
    "selected_df.columns"
   ]
  },
  {
   "cell_type": "code",
   "execution_count": 54,
   "metadata": {},
   "outputs": [],
   "source": [
    "selected = ['Q1', 'Q2', 'Q3', 'Q4', 'Q5', 'Q6', 'Q7', 'Q8', 'Q9', 'Q10', 'Q11',\n",
    "       'Q12', 'Q13', 'Q14', 'Q15', 'Q16', 'Q17', 'Q18', 'Q19', 'Q20', 'Q21',\n",
    "       'Q22', 'Q23', 'Q24', 'Q25', 'Q26', 'Q27', 'Q28', 'Q29', 'Q30', 'Q31',\n",
    "       'Q32', 'Q33', 'Q34', 'Q35', 'Q36', 'Q37', 'Q38', 'Q39', 'Q40', 'Q41',\n",
    "       'Q42', 'Q43', 'Q44']"
   ]
  },
  {
   "cell_type": "code",
   "execution_count": 68,
   "metadata": {
    "scrolled": false
   },
   "outputs": [
    {
     "data": {
      "text/plain": [
       "(44.0, 0.0)"
      ]
     },
     "execution_count": 68,
     "metadata": {},
     "output_type": "execute_result"
    },
    {
     "data": {
      "image/png": "[encoded data removed]",
      "text/plain": [
       "<Figure size 1800x720 with 2 Axes>"
      ]
     },
     "metadata": {
      "needs_background": "light"
     },
     "output_type": "display_data"
    }
   ],
   "source": [
    "selected_corr = df[selected].corr()\n",
    "selected_corr = selected_corr[np.abs(selected_corr)>.5]\n",
    "\n",
    "plt.figure(figsize = (25,10))\n",
    "plt.title('Question Correlation', fontsize = 16)\n",
    "mask = np.zeros(selected_corr.shape, dtype=bool)\n",
    "mask[np.triu_indices(len(mask))] = True\n",
    "ax = sns.heatmap(selected_corr,mask=mask, cmap=\"YlGnBu\")\n",
    "bottom, top = ax.get_ylim()\n",
    "ax.set_ylim(bottom + 0.5, top - 0.5)"
   ]
  },
  {
   "cell_type": "markdown",
   "metadata": {},
   "source": [
    "High correlations between Qns:\n",
    "1. Qn8 vs Qn21\n",
    "2. Qn14 vs Qn40\n",
    "3. Qn27 vs Qn43"
   ]
  },
  {
   "cell_type": "markdown",
   "metadata": {},
   "source": [
    "Should we remove these highly correlated variables as they might skew the association with the feature of left handness?"
   ]
  },
  {
   "cell_type": "markdown",
   "metadata": {},
   "source": [
    "---\n",
    "## Step 4: Model the data.\n",
    "\n",
    "### 5. Suppose I wanted to use Q1 - Q44 to predict whether or not the person is left-handed. Would this be a classification or regression problem? Why?"
   ]
  },
  {
   "cell_type": "markdown",
   "metadata": {},
   "source": [
    "This would be a classification problem as the output (whether or not the person is left-handed) is discrete."
   ]
  },
  {
   "cell_type": "markdown",
   "metadata": {},
   "source": [
    "### (detour) 6. While this isn't the problem we set out to solve, suppose I wanted to predict the exact age of the respondent using Q1 - Q44 as my predictors. Would this be a classification or regression problem? Why?"
   ]
  },
  {
   "cell_type": "markdown",
   "metadata": {},
   "source": [
    "This would be a regression problem as the output (the age of the person) is continuous."
   ]
  },
  {
   "cell_type": "markdown",
   "metadata": {},
   "source": [
    "### 7. We want to use $k$-nearest neighbors to predict whether or not a person is left-handed based on their responses to Q1 - Q44. Before doing that, however, you remember that it is often a good idea to standardize your variables. In general, why would we standardize our variables? Give an example of when we would standardize our variables."
   ]
  },
  {
   "cell_type": "markdown",
   "metadata": {},
   "source": [
    "When we want to put our variables on the same scale, we often will standardize them. An explicit example might be predicting income based on GPA and square footage of one's house. If we built a linear regression model predicting income from GPA and square feet, the coefficient from GPA would probably be quite large (because a one-unit change in GPA is substantial) whereas the coefficient from square feet would probably be quite small (because a one-unit change in square feet is almost negligible). If we plan to regularize, the GPA coefficient will be penalized just because it's large whereas the square feet coefficient will probably not be affected much at all.\n",
    "\n",
    "In the context of  𝑘 -nearest neighbors, it's especially important to standardize our variables. If we're trying to see which observations are \"close\" to one another and we have two variables that are on very different scales, then one variable will make observations look close to one another. For example, observations will look close based on GPA but far away based on square footage. The nearest neighbors will be almost entirely determined by square footage and not by GPA."
   ]
  },
  {
   "cell_type": "markdown",
   "metadata": {},
   "source": [
    "### 8. Give an example of when we might not standardize our variables."
   ]
  },
  {
   "cell_type": "markdown",
   "metadata": {},
   "source": [
    "If our variables are already on the same scale, it doesn't make sense to standardize them. If we want to interpret our variables on their original scale, standardizing will make that interpretation more difficult."
   ]
  },
  {
   "cell_type": "markdown",
   "metadata": {},
   "source": [
    "### 9. Based on your answers to 7 and 8, do you think we should standardize our predictor variables in this case? Why or why not?"
   ]
  },
  {
   "cell_type": "markdown",
   "metadata": {},
   "source": [
    "If we're only using Q1-Q44 as predictors, I would probably not standardize our predictor variables. They're already on the same scale (1 to 5) and I might want the interpretability of a one-unit increase in the response to an individual question."
   ]
  },
  {
   "cell_type": "markdown",
   "metadata": {},
   "source": [
    "### 10. We want to use $k$-nearest neighbors to predict whether or not a person is left-handed. What munging/cleaning do we need to do to our $y$ variable in order to explicitly answer this question? Do it."
   ]
  },
  {
   "cell_type": "code",
   "execution_count": 71,
   "metadata": {},
   "outputs": [
    {
     "data": {
      "text/plain": [
       "1    3542\n",
       "2     452\n",
       "3     179\n",
       "0      11\n",
       "Name: hand, dtype: int64"
      ]
     },
     "execution_count": 71,
     "metadata": {},
     "output_type": "execute_result"
    }
   ],
   "source": [
    "df.hand.value_counts()"
   ]
  },
  {
   "cell_type": "code",
   "execution_count": 76,
   "metadata": {},
   "outputs": [
    {
     "data": {
      "text/plain": [
       "1    0.846558\n",
       "2    0.108031\n",
       "3    0.042782\n",
       "0    0.002629\n",
       "Name: hand, dtype: float64"
      ]
     },
     "execution_count": 76,
     "metadata": {},
     "output_type": "execute_result"
    }
   ],
   "source": [
    "df.hand.value_counts('0')"
   ]
  },
  {
   "cell_type": "markdown",
   "metadata": {},
   "source": [
    "We want to predict whether or not a person is left-handed. Looking at df['hand'].value_counts(), we have four categories. Instead, I want to convert everything to 1s and 0s. Specifically, I'll map 2 (left-handed) to be 1 and I'll map everything else (0, 1, 3) to be 0."
   ]
  },
  {
   "cell_type": "markdown",
   "metadata": {},
   "source": [
    "I have dropped the 11 \"missing\" values of 0. This misay be a valid thing to do in this case, because we do not know whether the 0 refers to \"left-handed\" or \"not left-handed\" and it may not make sense to include them where our predicted value is missing. However, given that the proportion of 0s is so low, it's unlikely that this will substantially affect our model."
   ]
  },
  {
   "cell_type": "code",
   "execution_count": 77,
   "metadata": {},
   "outputs": [
    {
     "data": {
      "text/plain": [
       "1    3542\n",
       "2     452\n",
       "3     179\n",
       "0      11\n",
       "Name: hand, dtype: int64"
      ]
     },
     "execution_count": 77,
     "metadata": {},
     "output_type": "execute_result"
    }
   ],
   "source": [
    "df['hand'].value_counts()"
   ]
  },
  {
   "cell_type": "code",
   "execution_count": 78,
   "metadata": {},
   "outputs": [],
   "source": [
    "df['y'] = [1 if i == 2 else 0 for i in df['hand']]"
   ]
  },
  {
   "cell_type": "code",
   "execution_count": 79,
   "metadata": {},
   "outputs": [
    {
     "data": {
      "text/plain": [
       "0    3732\n",
       "1     452\n",
       "Name: y, dtype: int64"
      ]
     },
     "execution_count": 79,
     "metadata": {},
     "output_type": "execute_result"
    }
   ],
   "source": [
    "df['y'].value_counts()"
   ]
  },
  {
   "cell_type": "code",
   "execution_count": 80,
   "metadata": {},
   "outputs": [],
   "source": [
    "df = df[df['hand'] != 0].reset_index()"
   ]
  },
  {
   "cell_type": "code",
   "execution_count": 82,
   "metadata": {},
   "outputs": [
    {
     "data": {
      "text/html": [
       "<div>\n",
       "<style scoped>\n",
       "    .dataframe tbody tr th:only-of-type {\n",
       "        vertical-align: middle;\n",
       "    }\n",
       "\n",
       "    .dataframe tbody tr th {\n",
       "        vertical-align: top;\n",
       "    }\n",
       "\n",
       "    .dataframe thead th {\n",
       "        text-align: right;\n",
       "    }\n",
       "</style>\n",
       "<table border=\"1\" class=\"dataframe\">\n",
       "  <thead>\n",
       "    <tr style=\"text-align: right;\">\n",
       "      <th></th>\n",
       "      <th>index</th>\n",
       "      <th>Q1</th>\n",
       "      <th>Q2</th>\n",
       "      <th>Q3</th>\n",
       "      <th>Q4</th>\n",
       "      <th>Q5</th>\n",
       "      <th>Q6</th>\n",
       "      <th>Q7</th>\n",
       "      <th>Q8</th>\n",
       "      <th>Q9</th>\n",
       "      <th>...</th>\n",
       "      <th>fromgoogle</th>\n",
       "      <th>engnat</th>\n",
       "      <th>age</th>\n",
       "      <th>education</th>\n",
       "      <th>gender</th>\n",
       "      <th>orientation</th>\n",
       "      <th>race</th>\n",
       "      <th>religion</th>\n",
       "      <th>hand</th>\n",
       "      <th>y</th>\n",
       "    </tr>\n",
       "  </thead>\n",
       "  <tbody>\n",
       "    <tr>\n",
       "      <td>0</td>\n",
       "      <td>0</td>\n",
       "      <td>4</td>\n",
       "      <td>1</td>\n",
       "      <td>5</td>\n",
       "      <td>1</td>\n",
       "      <td>5</td>\n",
       "      <td>1</td>\n",
       "      <td>5</td>\n",
       "      <td>1</td>\n",
       "      <td>4</td>\n",
       "      <td>...</td>\n",
       "      <td>2</td>\n",
       "      <td>1</td>\n",
       "      <td>22</td>\n",
       "      <td>3</td>\n",
       "      <td>1</td>\n",
       "      <td>1</td>\n",
       "      <td>3</td>\n",
       "      <td>2</td>\n",
       "      <td>3</td>\n",
       "      <td>0</td>\n",
       "    </tr>\n",
       "    <tr>\n",
       "      <td>1</td>\n",
       "      <td>1</td>\n",
       "      <td>1</td>\n",
       "      <td>5</td>\n",
       "      <td>1</td>\n",
       "      <td>4</td>\n",
       "      <td>2</td>\n",
       "      <td>5</td>\n",
       "      <td>5</td>\n",
       "      <td>4</td>\n",
       "      <td>1</td>\n",
       "      <td>...</td>\n",
       "      <td>2</td>\n",
       "      <td>1</td>\n",
       "      <td>14</td>\n",
       "      <td>1</td>\n",
       "      <td>2</td>\n",
       "      <td>2</td>\n",
       "      <td>6</td>\n",
       "      <td>1</td>\n",
       "      <td>1</td>\n",
       "      <td>0</td>\n",
       "    </tr>\n",
       "    <tr>\n",
       "      <td>2</td>\n",
       "      <td>2</td>\n",
       "      <td>1</td>\n",
       "      <td>2</td>\n",
       "      <td>1</td>\n",
       "      <td>1</td>\n",
       "      <td>5</td>\n",
       "      <td>4</td>\n",
       "      <td>3</td>\n",
       "      <td>2</td>\n",
       "      <td>1</td>\n",
       "      <td>...</td>\n",
       "      <td>2</td>\n",
       "      <td>2</td>\n",
       "      <td>30</td>\n",
       "      <td>4</td>\n",
       "      <td>1</td>\n",
       "      <td>1</td>\n",
       "      <td>1</td>\n",
       "      <td>1</td>\n",
       "      <td>2</td>\n",
       "      <td>1</td>\n",
       "    </tr>\n",
       "    <tr>\n",
       "      <td>3</td>\n",
       "      <td>3</td>\n",
       "      <td>1</td>\n",
       "      <td>4</td>\n",
       "      <td>1</td>\n",
       "      <td>5</td>\n",
       "      <td>1</td>\n",
       "      <td>4</td>\n",
       "      <td>5</td>\n",
       "      <td>4</td>\n",
       "      <td>3</td>\n",
       "      <td>...</td>\n",
       "      <td>2</td>\n",
       "      <td>1</td>\n",
       "      <td>18</td>\n",
       "      <td>2</td>\n",
       "      <td>2</td>\n",
       "      <td>5</td>\n",
       "      <td>3</td>\n",
       "      <td>2</td>\n",
       "      <td>2</td>\n",
       "      <td>1</td>\n",
       "    </tr>\n",
       "    <tr>\n",
       "      <td>4</td>\n",
       "      <td>4</td>\n",
       "      <td>5</td>\n",
       "      <td>1</td>\n",
       "      <td>5</td>\n",
       "      <td>1</td>\n",
       "      <td>5</td>\n",
       "      <td>1</td>\n",
       "      <td>5</td>\n",
       "      <td>1</td>\n",
       "      <td>3</td>\n",
       "      <td>...</td>\n",
       "      <td>2</td>\n",
       "      <td>1</td>\n",
       "      <td>22</td>\n",
       "      <td>3</td>\n",
       "      <td>1</td>\n",
       "      <td>1</td>\n",
       "      <td>3</td>\n",
       "      <td>2</td>\n",
       "      <td>3</td>\n",
       "      <td>0</td>\n",
       "    </tr>\n",
       "  </tbody>\n",
       "</table>\n",
       "<p>5 rows × 58 columns</p>\n",
       "</div>"
      ],
      "text/plain": [
       "   index  Q1  Q2  Q3  Q4  Q5  Q6  Q7  Q8  Q9  ...  fromgoogle  engnat  age  \\\n",
       "0      0   4   1   5   1   5   1   5   1   4  ...           2       1   22   \n",
       "1      1   1   5   1   4   2   5   5   4   1  ...           2       1   14   \n",
       "2      2   1   2   1   1   5   4   3   2   1  ...           2       2   30   \n",
       "3      3   1   4   1   5   1   4   5   4   3  ...           2       1   18   \n",
       "4      4   5   1   5   1   5   1   5   1   3  ...           2       1   22   \n",
       "\n",
       "   education  gender  orientation  race  religion  hand  y  \n",
       "0          3       1            1     3         2     3  0  \n",
       "1          1       2            2     6         1     1  0  \n",
       "2          4       1            1     1         1     2  1  \n",
       "3          2       2            5     3         2     2  1  \n",
       "4          3       1            1     3         2     3  0  \n",
       "\n",
       "[5 rows x 58 columns]"
      ]
     },
     "execution_count": 82,
     "metadata": {},
     "output_type": "execute_result"
    }
   ],
   "source": [
    "df.head()"
   ]
  },
  {
   "cell_type": "markdown",
   "metadata": {},
   "source": [
    "### 11. The professor for whom you work suggests that you set $k = 4$. Why might this be a bad idea in this specific case?"
   ]
  },
  {
   "cell_type": "markdown",
   "metadata": {},
   "source": [
    "Having an even number of categories may lead us to having ties when predicting a discrete output. For example, maybe two nearest neighbors are right-handed and two nearest neighbors are left-handed. Any prediction in this case would be arbitrary, because it's equally likely (based on the data) for that individual to be left- or right-handed. It is almost always a good option to pick a value for  𝑘  that is not divisible by the number of categories you seek to predict!"
   ]
  },
  {
   "cell_type": "markdown",
   "metadata": {},
   "source": [
    "### 12. Let's *(finally)* use $k$-nearest neighbors to predict whether or not a person is left-handed!\n",
    "\n",
    "> Be sure to create a train/test split with your data!\n",
    "\n",
    "> Create four separate models, one with $k = 3$, one with $k = 5$, one with $k = 15$, and one with $k = 25$.\n",
    "\n",
    "> Instantiate and fit your models."
   ]
  },
  {
   "cell_type": "code",
   "execution_count": 83,
   "metadata": {},
   "outputs": [],
   "source": [
    "X = df.drop(columns=['index', 'introelapse', 'testelapse', 'country',\n",
    "       'fromgoogle', 'engnat', 'age', 'education', 'gender', 'orientation',\n",
    "       'race', 'religion', 'hand', 'y'], axis = 1)\n",
    "\n",
    "y = df['y']"
   ]
  },
  {
   "cell_type": "code",
   "execution_count": 84,
   "metadata": {},
   "outputs": [],
   "source": [
    "from sklearn import model_selection"
   ]
  },
  {
   "cell_type": "code",
   "execution_count": 85,
   "metadata": {},
   "outputs": [],
   "source": [
    "X_train, X_test, y_train, y_test = model_selection.train_test_split(X, y, test_size=0.25, random_state=42)"
   ]
  },
  {
   "cell_type": "code",
   "execution_count": 86,
   "metadata": {},
   "outputs": [],
   "source": [
    "from sklearn.neighbors import KNeighborsClassifier"
   ]
  },
  {
   "cell_type": "code",
   "execution_count": 87,
   "metadata": {},
   "outputs": [
    {
     "data": {
      "text/plain": [
       "KNeighborsClassifier(algorithm='auto', leaf_size=30, metric='minkowski',\n",
       "                     metric_params=None, n_jobs=None, n_neighbors=3, p=2,\n",
       "                     weights='uniform')"
      ]
     },
     "execution_count": 87,
     "metadata": {},
     "output_type": "execute_result"
    }
   ],
   "source": [
    "k_3 = KNeighborsClassifier(n_neighbors = 3)\n",
    "k_3.fit(X_train, y_train)"
   ]
  },
  {
   "cell_type": "code",
   "execution_count": 88,
   "metadata": {},
   "outputs": [
    {
     "data": {
      "text/plain": [
       "KNeighborsClassifier(algorithm='auto', leaf_size=30, metric='minkowski',\n",
       "                     metric_params=None, n_jobs=None, n_neighbors=5, p=2,\n",
       "                     weights='uniform')"
      ]
     },
     "execution_count": 88,
     "metadata": {},
     "output_type": "execute_result"
    }
   ],
   "source": [
    "k_5 = KNeighborsClassifier(n_neighbors = 5)\n",
    "k_5.fit(X_train, y_train)"
   ]
  },
  {
   "cell_type": "code",
   "execution_count": 89,
   "metadata": {},
   "outputs": [
    {
     "data": {
      "text/plain": [
       "KNeighborsClassifier(algorithm='auto', leaf_size=30, metric='minkowski',\n",
       "                     metric_params=None, n_jobs=None, n_neighbors=15, p=2,\n",
       "                     weights='uniform')"
      ]
     },
     "execution_count": 89,
     "metadata": {},
     "output_type": "execute_result"
    }
   ],
   "source": [
    "k_15 = KNeighborsClassifier(n_neighbors = 15)\n",
    "k_15.fit(X_train, y_train)"
   ]
  },
  {
   "cell_type": "code",
   "execution_count": 90,
   "metadata": {},
   "outputs": [
    {
     "data": {
      "text/plain": [
       "KNeighborsClassifier(algorithm='auto', leaf_size=30, metric='minkowski',\n",
       "                     metric_params=None, n_jobs=None, n_neighbors=25, p=2,\n",
       "                     weights='uniform')"
      ]
     },
     "execution_count": 90,
     "metadata": {},
     "output_type": "execute_result"
    }
   ],
   "source": [
    "k_25 = KNeighborsClassifier(n_neighbors = 25)\n",
    "k_25.fit(X_train, y_train)"
   ]
  },
  {
   "cell_type": "markdown",
   "metadata": {},
   "source": [
    "Being good data scientists, we know that we might not run just one type of model. We might run many different models and see which is best.\n",
    "\n",
    "### 13. We want to use logistic regression to predict whether or not a person is left-handed. Before we do that, let's check the [documentation for logistic regression in sklearn](http://scikit-learn.org/stable/modules/generated/sklearn.linear_model.LogisticRegression.html). Is there default regularization? If so, what is it? If not, how do you know?"
   ]
  },
  {
   "cell_type": "markdown",
   "metadata": {},
   "source": [
    "Surprisingly, there is default regularization!\n",
    "\n",
    "penalty = 'l2' indicates the L2 or Ridge penalty.\n",
    "C = 1.0 indicates that the inverse of our regularization strength is 1. Note that  𝐶=1𝛼⇒1=1𝛼⇒𝛼=1 .\n",
    "Our loss function would then include add  𝛼∑𝑝𝑖=1𝛽̂ 2𝑖  as a penalty, where  𝛼=1 ."
   ]
  },
  {
   "cell_type": "markdown",
   "metadata": {},
   "source": [
    "### 14. We want to use logistic regression to predict whether or not a person is left-handed. Before we do that, should we standardize our features? Well, the answer is (as always), **it depends**. What is one reason you would standardize? What is one reason you would not standardize?"
   ]
  },
  {
   "cell_type": "markdown",
   "metadata": {},
   "source": [
    "Answer:\n",
    "\n",
    "- An example of when I would standardize in logistic regression is if I wanted to implement regularization. If I did not regularize, I would improperly penalize coefficients simply for the scale of their variables.\n",
    "- An example of when I would not standardize in logistic regression is when I want to maintain interpretability of my variables or if my variables are already on the same scale.\n"
   ]
  },
  {
   "cell_type": "markdown",
   "metadata": {},
   "source": [
    "### 15. Let's use logistic regression to predict whether or not the person is left-handed.\n",
    "\n",
    "\n",
    "> Be sure to use the same train/test split with your data as with your $k$-NN model above!\n",
    "\n",
    "> Create four separate models, one with LASSO and $\\alpha = 1$, one with LASSO and $\\alpha = 10$, one with Ridge and $\\alpha = 1$, and one with Ridge and $\\alpha = 10$. *(Hint: Be careful with how you specify $\\alpha$ in your model!)*\n",
    "\n",
    "> Instantiate and fit your models."
   ]
  },
  {
   "cell_type": "code",
   "execution_count": 91,
   "metadata": {},
   "outputs": [],
   "source": [
    "from sklearn.linear_model import LogisticRegression"
   ]
  },
  {
   "cell_type": "code",
   "execution_count": 92,
   "metadata": {},
   "outputs": [
    {
     "name": "stderr",
     "output_type": "stream",
     "text": [
      "/opt/anaconda3/lib/python3.7/site-packages/sklearn/linear_model/logistic.py:432: FutureWarning: Default solver will be changed to 'lbfgs' in 0.22. Specify a solver to silence this warning.\n",
      "  FutureWarning)\n"
     ]
    },
    {
     "data": {
      "text/plain": [
       "LogisticRegression(C=1.0, class_weight=None, dual=False, fit_intercept=True,\n",
       "                   intercept_scaling=1, l1_ratio=None, max_iter=100,\n",
       "                   multi_class='warn', n_jobs=None, penalty='l1',\n",
       "                   random_state=None, solver='warn', tol=0.0001, verbose=0,\n",
       "                   warm_start=False)"
      ]
     },
     "execution_count": 92,
     "metadata": {},
     "output_type": "execute_result"
    }
   ],
   "source": [
    "lasso_1 = LogisticRegression(penalty = 'l1', C = 1.0)\n",
    "lasso_1.fit(X_train, y_train)"
   ]
  },
  {
   "cell_type": "code",
   "execution_count": 93,
   "metadata": {},
   "outputs": [
    {
     "name": "stderr",
     "output_type": "stream",
     "text": [
      "/opt/anaconda3/lib/python3.7/site-packages/sklearn/linear_model/logistic.py:432: FutureWarning: Default solver will be changed to 'lbfgs' in 0.22. Specify a solver to silence this warning.\n",
      "  FutureWarning)\n"
     ]
    },
    {
     "data": {
      "text/plain": [
       "LogisticRegression(C=0.1, class_weight=None, dual=False, fit_intercept=True,\n",
       "                   intercept_scaling=1, l1_ratio=None, max_iter=100,\n",
       "                   multi_class='warn', n_jobs=None, penalty='l1',\n",
       "                   random_state=None, solver='warn', tol=0.0001, verbose=0,\n",
       "                   warm_start=False)"
      ]
     },
     "execution_count": 93,
     "metadata": {},
     "output_type": "execute_result"
    }
   ],
   "source": [
    "lasso_10 = LogisticRegression(penalty = 'l1', C = 0.1)\n",
    "lasso_10.fit(X_train, y_train)"
   ]
  },
  {
   "cell_type": "code",
   "execution_count": 94,
   "metadata": {},
   "outputs": [
    {
     "name": "stderr",
     "output_type": "stream",
     "text": [
      "/opt/anaconda3/lib/python3.7/site-packages/sklearn/linear_model/logistic.py:432: FutureWarning: Default solver will be changed to 'lbfgs' in 0.22. Specify a solver to silence this warning.\n",
      "  FutureWarning)\n"
     ]
    },
    {
     "data": {
      "text/plain": [
       "LogisticRegression(C=1.0, class_weight=None, dual=False, fit_intercept=True,\n",
       "                   intercept_scaling=1, l1_ratio=None, max_iter=100,\n",
       "                   multi_class='warn', n_jobs=None, penalty='l2',\n",
       "                   random_state=None, solver='warn', tol=0.0001, verbose=0,\n",
       "                   warm_start=False)"
      ]
     },
     "execution_count": 94,
     "metadata": {},
     "output_type": "execute_result"
    }
   ],
   "source": [
    "ridge_1 = LogisticRegression(penalty = 'l2', C = 1.0)\n",
    "ridge_1.fit(X_train, y_train)"
   ]
  },
  {
   "cell_type": "code",
   "execution_count": 95,
   "metadata": {},
   "outputs": [
    {
     "name": "stderr",
     "output_type": "stream",
     "text": [
      "/opt/anaconda3/lib/python3.7/site-packages/sklearn/linear_model/logistic.py:432: FutureWarning: Default solver will be changed to 'lbfgs' in 0.22. Specify a solver to silence this warning.\n",
      "  FutureWarning)\n"
     ]
    },
    {
     "data": {
      "text/plain": [
       "LogisticRegression(C=0.1, class_weight=None, dual=False, fit_intercept=True,\n",
       "                   intercept_scaling=1, l1_ratio=None, max_iter=100,\n",
       "                   multi_class='warn', n_jobs=None, penalty='l2',\n",
       "                   random_state=None, solver='warn', tol=0.0001, verbose=0,\n",
       "                   warm_start=False)"
      ]
     },
     "execution_count": 95,
     "metadata": {},
     "output_type": "execute_result"
    }
   ],
   "source": [
    "ridge_10 = LogisticRegression(penalty = 'l2', C = 0.1)\n",
    "ridge_10.fit(X_train, y_train)"
   ]
  },
  {
   "cell_type": "code",
   "execution_count": 96,
   "metadata": {},
   "outputs": [
    {
     "data": {
      "text/plain": [
       "array([[-0.01107843, -0.00588098, -0.01412178, -0.05962907,  0.03936884,\n",
       "        -0.00054637, -0.00445846, -0.18021746, -0.00976282,  0.030527  ,\n",
       "        -0.00209141,  0.00474104, -0.06746218,  0.05776653, -0.07140683,\n",
       "         0.04056613,  0.02737649, -0.02444325, -0.00118865, -0.06539879,\n",
       "        -0.06395646, -0.09506636, -0.01624604, -0.03439506,  0.04931658,\n",
       "         0.09829253,  0.04098493, -0.04387918,  0.03588612,  0.00987317,\n",
       "         0.00570794,  0.01032495, -0.04162137, -0.01799096,  0.03856563,\n",
       "        -0.02899375, -0.03278705,  0.07536159, -0.06341798, -0.11188421,\n",
       "        -0.03283378, -0.05801698, -0.11602125,  0.03270412]])"
      ]
     },
     "execution_count": 96,
     "metadata": {},
     "output_type": "execute_result"
    }
   ],
   "source": [
    "lasso_1.coef_"
   ]
  },
  {
   "cell_type": "code",
   "execution_count": 97,
   "metadata": {},
   "outputs": [
    {
     "data": {
      "text/plain": [
       "array([[ 0.00000000e+00, -2.91455323e-04, -1.71272889e-03,\n",
       "        -3.98002951e-02,  2.05319163e-02,  0.00000000e+00,\n",
       "         0.00000000e+00, -1.55511572e-01, -1.00286219e-04,\n",
       "         0.00000000e+00,  0.00000000e+00,  0.00000000e+00,\n",
       "        -5.83147600e-02,  1.83650465e-02, -5.57174415e-02,\n",
       "         1.64558079e-02,  5.79881899e-03, -1.59921175e-02,\n",
       "        -8.43115738e-05, -5.45414392e-02, -4.52876543e-02,\n",
       "        -8.36017227e-02, -1.38245185e-02, -2.38474700e-02,\n",
       "         2.22245155e-02,  7.71538372e-02,  0.00000000e+00,\n",
       "        -2.79103393e-02,  1.27079458e-02,  0.00000000e+00,\n",
       "         0.00000000e+00,  0.00000000e+00, -3.76274229e-02,\n",
       "        -5.93289337e-03,  7.98669086e-03, -1.22972051e-02,\n",
       "        -2.75896860e-02,  4.57745306e-02, -4.54130593e-02,\n",
       "        -7.16125910e-02, -2.13153140e-02, -4.11614040e-02,\n",
       "        -6.91442586e-02,  4.36839350e-03]])"
      ]
     },
     "execution_count": 97,
     "metadata": {},
     "output_type": "execute_result"
    }
   ],
   "source": [
    "lasso_10.coef_"
   ]
  },
  {
   "cell_type": "markdown",
   "metadata": {},
   "source": [
    "---\n",
    "## Step 5: Evaluate the model(s).\n",
    "\n",
    "### 16. Before calculating any score on your data, take a step back. Think about your $X$ variable and your $Y$ variable. Do you think your $X$ variables will do a good job of predicting your $Y$ variable? Why or why not?"
   ]
  },
  {
   "cell_type": "markdown",
   "metadata": {},
   "source": [
    "No, I do not. We are predicting whether or not someone is left-handed based on a series of psychological factors. Psychological factors are probably not very likely to predict the hand with which someone writes."
   ]
  },
  {
   "cell_type": "markdown",
   "metadata": {},
   "source": [
    "### 17. Using accuracy as your metric, evaluate all eight of your models on both the training and testing sets. Put your scores below. (If you want to be fancy and generate a table in Markdown, there's a [Markdown table generator site linked here](https://www.tablesgenerator.com/markdown_tables#).)"
   ]
  },
  {
   "cell_type": "code",
   "execution_count": 98,
   "metadata": {},
   "outputs": [
    {
     "name": "stdout",
     "output_type": "stream",
     "text": [
      "k-nearest neighbors training accuracy with k = 3: 0.9057206775327581\n",
      "k-nearest neighbors testing accuracy with k = 3: 0.85727969348659\n",
      "k-nearest neighbors training accuracy with k = 5: 0.8910194950463407\n",
      "k-nearest neighbors testing accuracy with k = 5: 0.8812260536398467\n",
      "k-nearest neighbors training accuracy with k = 15: 0.8906999041227229\n",
      "k-nearest neighbors testing accuracy with k = 15: 0.8936781609195402\n",
      "k-nearest neighbors training accuracy with k = 25: 0.8910194950463407\n",
      "k-nearest neighbors testing accuracy with k = 25: 0.8936781609195402\n",
      "logistic regression training accuracy with LASSO penalty, alpha = 1: 0.8913390859699585\n",
      "logistic regression testing accuracy with LASSO penalty, alpha = 1: 0.8936781609195402\n",
      "logistic regression training accuracy with LASSO penalty, alpha = 10: 0.8913390859699585\n",
      "logistic regression testing accuracy with LASSO penalty, alpha = 10: 0.8936781609195402\n",
      "logistic regression training accuracy with Ridge penalty, alpha = 1: 0.8913390859699585\n",
      "logistic regression testing accuracy with Ridge penalty, alpha = 1: 0.8936781609195402\n",
      "logistic regression training accuracy with Ridge penalty, alpha = 10: 0.8913390859699585\n",
      "logistic regression testing accuracy with Ridge penalty, alpha = 10: 0.8936781609195402\n"
     ]
    }
   ],
   "source": [
    "print(\"k-nearest neighbors training accuracy with k = 3: \" + str(k_3.score(X_train, y_train)))\n",
    "print(\"k-nearest neighbors testing accuracy with k = 3: \" + str(k_3.score(X_test, y_test)))\n",
    "\n",
    "print(\"k-nearest neighbors training accuracy with k = 5: \" + str(k_5.score(X_train, y_train)))\n",
    "print(\"k-nearest neighbors testing accuracy with k = 5: \" + str(k_5.score(X_test, y_test)))\n",
    "\n",
    "print(\"k-nearest neighbors training accuracy with k = 15: \" + str(k_15.score(X_train, y_train)))\n",
    "print(\"k-nearest neighbors testing accuracy with k = 15: \" + str(k_15.score(X_test, y_test)))\n",
    "\n",
    "print(\"k-nearest neighbors training accuracy with k = 25: \" + str(k_25.score(X_train, y_train)))\n",
    "print(\"k-nearest neighbors testing accuracy with k = 25: \" + str(k_25.score(X_test, y_test)))\n",
    "\n",
    "print(\"logistic regression training accuracy with LASSO penalty, alpha = 1: \" + str(lasso_1.score(X_train, y_train)))\n",
    "print(\"logistic regression testing accuracy with LASSO penalty, alpha = 1: \" + str(lasso_1.score(X_test, y_test)))\n",
    "\n",
    "print(\"logistic regression training accuracy with LASSO penalty, alpha = 10: \" + str(lasso_10.score(X_train, y_train)))\n",
    "print(\"logistic regression testing accuracy with LASSO penalty, alpha = 10: \" + str(lasso_10.score(X_test, y_test)))\n",
    "\n",
    "print(\"logistic regression training accuracy with Ridge penalty, alpha = 1: \" + str(ridge_1.score(X_train, y_train)))\n",
    "print(\"logistic regression testing accuracy with Ridge penalty, alpha = 1: \" + str(ridge_1.score(X_test, y_test)))\n",
    "\n",
    "print(\"logistic regression training accuracy with Ridge penalty, alpha = 10: \" + str(ridge_10.score(X_train, y_train)))\n",
    "print(\"logistic regression testing accuracy with Ridge penalty, alpha = 10: \" + str(ridge_10.score(X_test, y_test)))"
   ]
  },
  {
   "cell_type": "markdown",
   "metadata": {},
   "source": [
    "**Answer:**\n",
    "\n",
    "|        Model        |    Value of $k$   | Penalty |   Value of $\\alpha$   | Training Accuracy | Testing Accuracy |\n",
    "|:-------------------:|:--------------:|:-------:|:----------:|:-----------------:|:----------------:|\n",
    "|         $k$-nn         |  $k = 3$ |    NA   |     NA     |       0.9057      |      0.8573      |\n",
    "|         $k$-nn         |  $k = 5$ |    NA   |     NA     |       0.8910      |      0.8812      |\n",
    "|         $k$-nn         | $k = 15$ |    NA   |     NA     |       0.8907      |      0.8937      |\n",
    "|         $k$-nn         | $k = 25$ |    NA   |     NA     |       0.8910      |      0.8937      |\n",
    "| logistic regression |   NA   |  LASSO  |  $\\alpha = 1$ |       0.8913      |      0.8937      |\n",
    "| logistic regression |   NA   |  LASSO  | $\\alpha = 10$ |       0.8913      |      0.8937      |\n",
    "| logistic regression |   NA   |  Ridge  |  $\\alpha = 1$ |       0.8913      |      0.8937      |\n",
    "| logistic regression |   NA   |  Ridge  | $\\alpha = 10$ |       0.8913      |      0.8937      |"
   ]
  },
  {
   "cell_type": "markdown",
   "metadata": {},
   "source": [
    "### 18. In which of your $k$-NN models is there evidence of overfitting? How do you know?"
   ]
  },
  {
   "cell_type": "markdown",
   "metadata": {},
   "source": [
    "Remember that we overfit when our model is too closely matched to the training data and thus generalizes poorly to (held-out) testing data. Evidence of this is when our training score is better than our testing score. In this case, we see that our training score is better than our testing score when  𝑘=3  and  𝑘=5 ."
   ]
  },
  {
   "cell_type": "markdown",
   "metadata": {},
   "source": [
    "### 19. Broadly speaking, how does the value of $k$ in $k$-NN affect the bias-variance tradeoff? (i.e. As $k$ increases, how are bias and variance affected?)"
   ]
  },
  {
   "cell_type": "markdown",
   "metadata": {},
   "source": [
    "As  𝑘  increases, our bias increases and our variance decreases.\n",
    "As  𝑘  decreases, our bias decreases and our variance increases"
   ]
  },
  {
   "cell_type": "markdown",
   "metadata": {},
   "source": [
    "### 20. If you have a $k$-NN model that has evidence of overfitting, what are three things you might try to do to combat overfitting?"
   ]
  },
  {
   "cell_type": "markdown",
   "metadata": {},
   "source": [
    "1. We can increase  𝑘  in order to decrease variance.\n",
    "\n",
    "2. We can pick a less flexible model than  𝑘 -nearest neighbors. One example of that would be logistic regression. (Logistic regression makes more simplifying assumptions than  𝑘 -nearest neighbors - for example, linear relationship between X and logit of Y.)\n",
    "\n",
    "3. We can reduce the number of questions we include as predictors. (For example, maybe some of our questions are correlated with one another, which adds unnecessary complexity to our model.)"
   ]
  },
  {
   "cell_type": "markdown",
   "metadata": {},
   "source": [
    "### 21. In which of your logistic regression models is there evidence of overfitting? How do you know?"
   ]
  },
  {
   "cell_type": "markdown",
   "metadata": {},
   "source": [
    "All of our logistic regression models have identical training scores and identical testing scores. There is no evidence of overfitting from these models, because our training scores are worse than our testing scores.\n",
    "\n",
    "While initially surprising, this logically makes sense. It is very unlikely that psychological factors predict left-handedness. Thus, our coefficients are already quite small. Regularization is likely to have little effect on the coefficients."
   ]
  },
  {
   "cell_type": "markdown",
   "metadata": {},
   "source": [
    "### 22. Broadly speaking, how does the value of $C$ in logistic regression affect the bias-variance tradeoff? (i.e. As $C$ increases, how are bias and variance affected?)"
   ]
  },
  {
   "cell_type": "markdown",
   "metadata": {},
   "source": [
    "- As  𝐶  increases, we regularize less. If we regularize less, then our variance increases and our bias decreases.\n",
    "- As  𝐶  decreases, we regularize more. If we regularize more, then our variance decreases and our bias increases."
   ]
  },
  {
   "cell_type": "markdown",
   "metadata": {},
   "source": [
    "### 23. For your logistic regression models, play around with the regularization hyperparameter, $C$. As you vary $C$, what happens to the fit and coefficients in the model? What might this mean in the context of this problem?"
   ]
  },
  {
   "cell_type": "markdown",
   "metadata": {},
   "source": [
    "- As we saw above, by changing the hyperparameter  𝐶  (or equivalently changing  𝛼 ), we are getting the same model. This means that either our regularization has no effect on our model or that our regularization has such a strong effect that even regularizing a little bit would basically push our coefficients to zero.\n",
    "\n",
    "- In this case, we mentioned above that our  𝑋  variables probably aren't very valuable in trying to predict  𝑌 . Because of this, it is not surprising that even a little bit of regularization (i.e.  𝛼=1 ) has a really substantial effect on the fit of our models. The fact that regularizing will give you the same answer provides more support to the claim that our  𝑋  variables are relatively worthless when trying to predict left-handedness."
   ]
  },
  {
   "cell_type": "markdown",
   "metadata": {},
   "source": [
    "### 24. If you have a logistic regression model that has evidence of overfitting, what are three things you might try to do to combat overfitting?"
   ]
  },
  {
   "cell_type": "markdown",
   "metadata": {},
   "source": [
    "1. Manually remove features from my model.\n",
    "2. Increase the regularization strength and/or consider using LASSO regularization if not already doing so.\n",
    "3. Attempt to gather more data, although this is likely to be an expensive and time-consuming approach to reducing variance."
   ]
  },
  {
   "cell_type": "markdown",
   "metadata": {},
   "source": [
    "---\n",
    "## Step 6: Answer the problem.\n",
    "\n",
    "### 25. Suppose you want to understand which psychological features are most important in determining left-handedness. Would you rather use $k$-NN or logistic regression? Why?"
   ]
  },
  {
   "cell_type": "markdown",
   "metadata": {},
   "source": [
    "I would prefer to use logistic regression. A logistic regression model would allow us to understand the effect of psychological features on left-handedness. Specifically, we can estimate coefficients that tell us the impact of a one-unit change in psychological factors on whether or not people are left-handed.  𝑘 -nearest neighbors does not provide us with a similar way to understaand how individual features affect left-handedness."
   ]
  },
  {
   "cell_type": "markdown",
   "metadata": {},
   "source": [
    "### 26. Select a logistic regression model. Interpret the coefficient for `Q1`."
   ]
  },
  {
   "cell_type": "markdown",
   "metadata": {},
   "source": [
    "Because all of my logistic regression models performed at the same level, I'm going to simply pick ridge_10"
   ]
  },
  {
   "cell_type": "code",
   "execution_count": 100,
   "metadata": {},
   "outputs": [
    {
     "data": {
      "text/plain": [
       "array([[-0.01264616, -0.0070654 , -0.01537297, -0.06071903,  0.04054183,\n",
       "        -0.00122152, -0.00574385, -0.17622372, -0.01072156,  0.03366995,\n",
       "        -0.00296723,  0.00702613, -0.06716863,  0.05874076, -0.07168935,\n",
       "         0.04183714,  0.0288661 , -0.02527825, -0.00193507, -0.06552106,\n",
       "        -0.06078968, -0.0942753 , -0.01677134, -0.03532267,  0.05081112,\n",
       "         0.09822074,  0.04855865, -0.04490838,  0.03748763,  0.01132633,\n",
       "         0.00925527,  0.01180348, -0.04183482, -0.01930181,  0.04056478,\n",
       "        -0.03022103, -0.03236939,  0.07607452, -0.06408819, -0.11219905,\n",
       "        -0.03354864, -0.05909228, -0.1222774 ,  0.03515612]])"
      ]
     },
     "execution_count": 100,
     "metadata": {},
     "output_type": "execute_result"
    }
   ],
   "source": [
    "ridge_10.coef_"
   ]
  },
  {
   "cell_type": "markdown",
   "metadata": {},
   "source": [
    "The coefficient for `Q1` is -0.0126"
   ]
  },
  {
   "cell_type": "code",
   "execution_count": 103,
   "metadata": {},
   "outputs": [
    {
     "data": {
      "text/plain": [
       "0.987433466670734"
      ]
     },
     "execution_count": 103,
     "metadata": {},
     "output_type": "execute_result"
    }
   ],
   "source": [
    "import numpy as np\n",
    "\n",
    "np.exp(ridge_10.coef_[0][0])"
   ]
  },
  {
   "cell_type": "code",
   "execution_count": 104,
   "metadata": {},
   "outputs": [
    {
     "data": {
      "text/plain": [
       "0.987433466670734"
      ]
     },
     "execution_count": 104,
     "metadata": {},
     "output_type": "execute_result"
    }
   ],
   "source": [
    "np.exp(-0.01264616)"
   ]
  },
  {
   "cell_type": "markdown",
   "metadata": {},
   "source": [
    "Q1\tI have studied how to win at gambling."
   ]
  },
  {
   "cell_type": "markdown",
   "metadata": {},
   "source": [
    "We can interpret the coefficient for Q1 in one of three ways.\n",
    "\n",
    "- As the value for Q1 increases by 1, the log-odds of being left-handed decreases by 0.0126.\n",
    "- As the value for Q1 increases by 1, an individual is 98.75% as likely to be left-handed.\n",
    "- As the value for Q1 increases by 1, an individual is 1.25% less likely to be left-handed.\n"
   ]
  },
  {
   "cell_type": "markdown",
   "metadata": {},
   "source": [
    "### 27. If you have to select one model overall to be your *best* model, which model would you select? Why?"
   ]
  },
  {
   "cell_type": "markdown",
   "metadata": {},
   "source": [
    " Of the models I ran, I would either select my  𝑘 -nn model with  𝑘=5  or I would select a logistic regression model."
   ]
  },
  {
   "cell_type": "markdown",
   "metadata": {},
   "source": [
    "- My $k$-nn model with $k = 5$ is my $k$-nn model that, based on testing/training accuracy, seems to best balance bias and variance.\n",
    "- All of my logistic regression models are performing at the same level, so I could really pick any of them."
   ]
  },
  {
   "cell_type": "markdown",
   "metadata": {},
   "source": [
    "**I would probably select my logistic regression model.** Our accuracy is going to be high because we can always just predict \"not left-handed\" and we'll be right like 90% of the time. If I want to understand what (if any) features predict left-handedness, logistic regression is better for this type of problem than $k$-nearest neighbors. (If I cared about the best predictions instead of understanding how things work, I might be likelier to pick $k$-nn.)"
   ]
  },
  {
   "cell_type": "markdown",
   "metadata": {},
   "source": [
    "### 28. Circle back to the three specific and conclusively answerable questions you came up with in Q1. Answer these for the professor based on the model you selected!"
   ]
  },
  {
   "cell_type": "markdown",
   "metadata": {},
   "source": [
    "My questions from the beginning were:\n",
    "\n",
    "As one's response to Q1 increases, are people more or less likely to be left-handed?\n",
    "Does the distribution of handedness vary based one's response to Q1?\n",
    "Which question (Q1-Q44) has the highest association with left-handedness?\n",
    "\n",
    "I select my ridge_10 model."
   ]
  },
  {
   "cell_type": "markdown",
   "metadata": {},
   "source": [
    "#### 1. As one's response to `Q1` increases, are people more or less likely to be left-handed?\n",
    "\n",
    "**Answer:** As one's answer to `Q1` increases by 1, they are 1.25% less likely to be left-handed."
   ]
  },
  {
   "cell_type": "markdown",
   "metadata": {},
   "source": [
    "#### 2. Does the distribution of handedness vary based one's response to Q1?"
   ]
  },
  {
   "cell_type": "code",
   "execution_count": 108,
   "metadata": {},
   "outputs": [
    {
     "data": {
      "text/html": [
       "<div>\n",
       "<style scoped>\n",
       "    .dataframe tbody tr th:only-of-type {\n",
       "        vertical-align: middle;\n",
       "    }\n",
       "\n",
       "    .dataframe tbody tr th {\n",
       "        vertical-align: top;\n",
       "    }\n",
       "\n",
       "    .dataframe thead tr th {\n",
       "        text-align: left;\n",
       "    }\n",
       "\n",
       "    .dataframe thead tr:last-of-type th {\n",
       "        text-align: right;\n",
       "    }\n",
       "</style>\n",
       "<table border=\"1\" class=\"dataframe\">\n",
       "  <thead>\n",
       "    <tr>\n",
       "      <th></th>\n",
       "      <th colspan=\"6\" halign=\"left\">religion</th>\n",
       "    </tr>\n",
       "    <tr>\n",
       "      <th>Q1</th>\n",
       "      <th>0</th>\n",
       "      <th>1</th>\n",
       "      <th>2</th>\n",
       "      <th>3</th>\n",
       "      <th>4</th>\n",
       "      <th>5</th>\n",
       "    </tr>\n",
       "    <tr>\n",
       "      <th>hand</th>\n",
       "      <th></th>\n",
       "      <th></th>\n",
       "      <th></th>\n",
       "      <th></th>\n",
       "      <th></th>\n",
       "      <th></th>\n",
       "    </tr>\n",
       "  </thead>\n",
       "  <tbody>\n",
       "    <tr>\n",
       "      <td>1</td>\n",
       "      <td>2.0</td>\n",
       "      <td>2159.0</td>\n",
       "      <td>332.0</td>\n",
       "      <td>408.0</td>\n",
       "      <td>377.0</td>\n",
       "      <td>264.0</td>\n",
       "    </tr>\n",
       "    <tr>\n",
       "      <td>2</td>\n",
       "      <td>2.0</td>\n",
       "      <td>277.0</td>\n",
       "      <td>37.0</td>\n",
       "      <td>50.0</td>\n",
       "      <td>58.0</td>\n",
       "      <td>28.0</td>\n",
       "    </tr>\n",
       "    <tr>\n",
       "      <td>3</td>\n",
       "      <td>NaN</td>\n",
       "      <td>79.0</td>\n",
       "      <td>14.0</td>\n",
       "      <td>35.0</td>\n",
       "      <td>26.0</td>\n",
       "      <td>25.0</td>\n",
       "    </tr>\n",
       "  </tbody>\n",
       "</table>\n",
       "</div>"
      ],
      "text/plain": [
       "     religion                                    \n",
       "Q1          0       1      2      3      4      5\n",
       "hand                                             \n",
       "1         2.0  2159.0  332.0  408.0  377.0  264.0\n",
       "2         2.0   277.0   37.0   50.0   58.0   28.0\n",
       "3         NaN    79.0   14.0   35.0   26.0   25.0"
      ]
     },
     "execution_count": 108,
     "metadata": {},
     "output_type": "execute_result"
    }
   ],
   "source": [
    "pd.pivot_table(df[['Q1', 'hand', 'religion']], index = 'hand', columns = 'Q1', aggfunc = 'count')"
   ]
  },
  {
   "cell_type": "code",
   "execution_count": 109,
   "metadata": {},
   "outputs": [
    {
     "data": {
      "image/png": "[encoded data removed]",
      "text/plain": [
       "<Figure size 432x288 with 1 Axes>"
      ]
     },
     "metadata": {
      "needs_background": "light"
     },
     "output_type": "display_data"
    }
   ],
   "source": [
    "sns.distplot(df[df['Q1'] == 1]['hand']);"
   ]
  },
  {
   "cell_type": "code",
   "execution_count": 110,
   "metadata": {},
   "outputs": [
    {
     "data": {
      "image/png": "[encoded data removed]",
      "text/plain": [
       "<Figure size 432x288 with 1 Axes>"
      ]
     },
     "metadata": {
      "needs_background": "light"
     },
     "output_type": "display_data"
    }
   ],
   "source": [
    "sns.distplot(df[df['Q1'] == 2]['hand']);"
   ]
  },
  {
   "cell_type": "code",
   "execution_count": 111,
   "metadata": {},
   "outputs": [
    {
     "data": {
      "image/png": "[encoded data removed]",
      "text/plain": [
       "<Figure size 432x288 with 1 Axes>"
      ]
     },
     "metadata": {
      "needs_background": "light"
     },
     "output_type": "display_data"
    }
   ],
   "source": [
    "sns.distplot(df[df['Q1'] == 3]['hand']);"
   ]
  },
  {
   "cell_type": "code",
   "execution_count": 112,
   "metadata": {},
   "outputs": [
    {
     "data": {
      "image/png": "[encoded data removed]",
      "text/plain": [
       "<Figure size 432x288 with 1 Axes>"
      ]
     },
     "metadata": {
      "needs_background": "light"
     },
     "output_type": "display_data"
    }
   ],
   "source": [
    "sns.distplot(df[df['Q1'] == 4]['hand']);"
   ]
  },
  {
   "cell_type": "code",
   "execution_count": 113,
   "metadata": {},
   "outputs": [
    {
     "data": {
      "image/png": "[encoded data removed]",
      "text/plain": [
       "<Figure size 432x288 with 1 Axes>"
      ]
     },
     "metadata": {
      "needs_background": "light"
     },
     "output_type": "display_data"
    }
   ],
   "source": [
    "sns.distplot(df[df['Q1'] == 5]['hand']);"
   ]
  },
  {
   "cell_type": "markdown",
   "metadata": {},
   "source": [
    "The distplots, although kind of difficult to see, seem to tell a similar story. We can do a more explicit test (i.e. the Kolmogorov-Smirnov test to compare distributions) but considering:\n",
    "\n",
    "the really minor effect of Q1 on left-handedness (as Q1 increases by 1, one is 1.25% less likely to be left-handed),\n",
    "the subject-matter expertise that means it's very unlikely Q1 affects left-handedness,\n",
    "and the visual inspection of the table and graphs,\n",
    "I'm comfortable concluding that there little to no evidence of a difference in the distribution of handedness for different values of Q1."
   ]
  },
  {
   "cell_type": "markdown",
   "metadata": {},
   "source": [
    "#### 3. Which question (`Q1`-`Q44`) has the highest association with left-handedness?\n",
    "\n",
    "**Answer:** It makes more sense for us to use [Spearman correlation](https://en.wikipedia.org/wiki/Spearman%27s_rank_correlation_coefficient) instead of the standard [Pearson correlation](https://en.wikipedia.org/wiki/Pearson_product-moment_correlation_coefficient) because our $Y$ is binary (left-handed vs. not left-handed)."
   ]
  },
  {
   "cell_type": "code",
   "execution_count": 115,
   "metadata": {},
   "outputs": [],
   "source": [
    "from scipy.stats import spearmanr"
   ]
  },
  {
   "cell_type": "code",
   "execution_count": 117,
   "metadata": {},
   "outputs": [],
   "source": [
    "#iterating through columns `Q1` through `Q44`.\n",
    "\n",
    "lst = list(range(1,45))\n",
    "\n",
    "for i in range(len(lst)):\n",
    "    lst[i] = \"Q\" + str(lst[i])"
   ]
  },
  {
   "cell_type": "code",
   "execution_count": 119,
   "metadata": {},
   "outputs": [
    {
     "data": {
      "text/plain": [
       "['Q1',\n",
       " 'Q2',\n",
       " 'Q3',\n",
       " 'Q4',\n",
       " 'Q5',\n",
       " 'Q6',\n",
       " 'Q7',\n",
       " 'Q8',\n",
       " 'Q9',\n",
       " 'Q10',\n",
       " 'Q11',\n",
       " 'Q12',\n",
       " 'Q13',\n",
       " 'Q14',\n",
       " 'Q15',\n",
       " 'Q16',\n",
       " 'Q17',\n",
       " 'Q18',\n",
       " 'Q19',\n",
       " 'Q20',\n",
       " 'Q21',\n",
       " 'Q22',\n",
       " 'Q23',\n",
       " 'Q24',\n",
       " 'Q25',\n",
       " 'Q26',\n",
       " 'Q27',\n",
       " 'Q28',\n",
       " 'Q29',\n",
       " 'Q30',\n",
       " 'Q31',\n",
       " 'Q32',\n",
       " 'Q33',\n",
       " 'Q34',\n",
       " 'Q35',\n",
       " 'Q36',\n",
       " 'Q37',\n",
       " 'Q38',\n",
       " 'Q39',\n",
       " 'Q40',\n",
       " 'Q41',\n",
       " 'Q42',\n",
       " 'Q43',\n",
       " 'Q44']"
      ]
     },
     "execution_count": 119,
     "metadata": {},
     "output_type": "execute_result"
    }
   ],
   "source": [
    "lst"
   ]
  },
  {
   "cell_type": "code",
   "execution_count": 120,
   "metadata": {},
   "outputs": [
    {
     "name": "stdout",
     "output_type": "stream",
     "text": [
      "Q1 SpearmanrResult(correlation=-0.00962963447349597, pvalue=0.534013860383785)\n",
      "Q2 SpearmanrResult(correlation=-0.03020724551273618, pvalue=0.051031916420861585)\n",
      "Q3 SpearmanrResult(correlation=-0.017014769959872188, pvalue=0.2718189612962998)\n",
      "Q4 SpearmanrResult(correlation=-0.041727612516423845, pvalue=0.007019479844892741)\n",
      "Q5 SpearmanrResult(correlation=0.012202331990951337, pvalue=0.4306682078979158)\n",
      "Q6 SpearmanrResult(correlation=-0.004831476733868781, pvalue=0.7550285676632277)\n",
      "Q7 SpearmanrResult(correlation=-0.004458464932305096, pvalue=0.7734030320451551)\n",
      "Q8 SpearmanrResult(correlation=-0.04999285729022068, pvalue=0.0012356129052117388)\n",
      "Q9 SpearmanrResult(correlation=-0.029388072861660428, pvalue=0.05765995162892377)\n",
      "Q10 SpearmanrResult(correlation=0.004370722359694957, pvalue=0.7777441439101257)\n",
      "Q11 SpearmanrResult(correlation=0.0007508257349283278, pvalue=0.961327416392445)\n",
      "Q12 SpearmanrResult(correlation=-0.009127774964141123, pvalue=0.5555402710311332)\n",
      "Q13 SpearmanrResult(correlation=-0.0066500607141038275, pvalue=0.6675872336017356)\n",
      "Q14 SpearmanrResult(correlation=-0.024538116211243466, pvalue=0.11299004354439947)\n",
      "Q15 SpearmanrResult(correlation=-0.028187817551355975, pvalue=0.06865029044581437)\n",
      "Q16 SpearmanrResult(correlation=-0.0016804228319515985, pvalue=0.9135825902701219)\n",
      "Q17 SpearmanrResult(correlation=-0.00012905014841857766, pvalue=0.9933505211551752)\n",
      "Q18 SpearmanrResult(correlation=-0.020507547022197942, pvalue=0.1853355366072676)\n",
      "Q19 SpearmanrResult(correlation=-0.01642453228989217, pvalue=0.28879983494786815)\n",
      "Q20 SpearmanrResult(correlation=-0.01991981944383891, pvalue=0.19825543445323401)\n",
      "Q21 SpearmanrResult(correlation=0.015696451597752605, pvalue=0.31071160055778974)\n",
      "Q22 SpearmanrResult(correlation=-0.042362573050922996, pvalue=0.006200634082498964)\n",
      "Q23 SpearmanrResult(correlation=-0.04716045599657836, pvalue=0.0023091490935701615)\n",
      "Q24 SpearmanrResult(correlation=-0.011240704842883312, pvalue=0.46787493753998954)\n",
      "Q25 SpearmanrResult(correlation=0.018094442567573428, pvalue=0.242555127084908)\n",
      "Q26 SpearmanrResult(correlation=0.016135606494436346, pvalue=0.29736728295904896)\n",
      "Q27 SpearmanrResult(correlation=-0.03324333585878489, pvalue=0.03175918630084496)\n",
      "Q28 SpearmanrResult(correlation=-0.01626908868361836, pvalue=0.29338828211891205)\n",
      "Q29 SpearmanrResult(correlation=-0.0022786500018772064, pvalue=0.8830104199268984)\n",
      "Q30 SpearmanrResult(correlation=-0.0097155289778718, pvalue=0.5303722152990943)\n",
      "Q31 SpearmanrResult(correlation=0.011123282016229755, pvalue=0.47253707152103497)\n",
      "Q32 SpearmanrResult(correlation=-0.019125576711460476, pvalue=0.2167443933535634)\n",
      "Q33 SpearmanrResult(correlation=2.1943512819132604e-05, pvalue=0.9988693188988528)\n",
      "Q34 SpearmanrResult(correlation=-0.026050855988870157, pvalue=0.09244588472791025)\n",
      "Q35 SpearmanrResult(correlation=-0.00821611070697709, pvalue=0.5956956309513565)\n",
      "Q36 SpearmanrResult(correlation=-0.020536043652571757, pvalue=0.18472530994809058)\n",
      "Q37 SpearmanrResult(correlation=-0.017838678630835717, pvalue=0.2492787572176518)\n",
      "Q38 SpearmanrResult(correlation=0.0024420770434495304, pvalue=0.8746867965056218)\n",
      "Q39 SpearmanrResult(correlation=-0.0321722114965612, pvalue=0.03769091176170902)\n",
      "Q40 SpearmanrResult(correlation=-0.02979584993682339, pvalue=0.05427620715690325)\n",
      "Q41 SpearmanrResult(correlation=-0.02082024208672355, pvalue=0.17872062558989665)\n",
      "Q42 SpearmanrResult(correlation=-0.03680197184909496, pvalue=0.017432573989421083)\n",
      "Q43 SpearmanrResult(correlation=-0.04041433398613534, pvalue=0.009027776946659686)\n",
      "Q44 SpearmanrResult(correlation=-0.027553567718821247, pvalue=0.07511999697402115)\n",
      "The question most correlated with left-handedness is Q8 with correlation of -0.04999285729022068 and p_value of 0.0012356129052117388.\n"
     ]
    }
   ],
   "source": [
    "corr = 0\n",
    "p_val = 1\n",
    "question = 'Q0'\n",
    "\n",
    "for i in lst:\n",
    "    spearman = spearmanr(df[i], df['y'])\n",
    "    print(i, spearman)\n",
    "    if spearman[1] < p_val:\n",
    "        corr = spearman[0]\n",
    "        p_val = spearman[1]\n",
    "        question = i\n",
    "\n",
    "print(\"The question most correlated with left-handedness is \" + question + \" with correlation of \" + str(corr) + \" and p_value of \" + str(p_val) + \".\")"
   ]
  },
  {
   "cell_type": "markdown",
   "metadata": {},
   "source": [
    "Wrapping up, we see that Q8 has the strongest correlation with left-handedness. The  𝑝 -value is significant at the most common significance levels, but it's also possible that this is just noise. (By testing 44 different questions, it's likely that at least a handful would seem significant just by random chance.)"
   ]
  },
  {
   "cell_type": "markdown",
   "metadata": {},
   "source": [
    "### BONUS:\n",
    "Looking for more to do? Probably not - you're busy! But if you want to, consider exploring the following:\n",
    "- Suppose this data were in a `SQL` database named `data` and a table named `inventory`. What `SQL` query would return the count of people who were right-handed, left-handed, both, or missing with their class labels of 1, 2, 3, and 0, respectively? (You can assume you've already logged into the database.)\n",
    "- Fit and evaluate one or more of the generalized linear models discussed above.\n",
    "- Create a plot comparing training and test metrics for various values of $k$ and various regularization schemes in logistic regression.\n",
    "- Rather than just evaluating models based on accuracy, consider using sensitivity, specificity, etc.\n",
    "- In the context of predicting left-handedness, why are unbalanced classes concerning? If you were to re-do this process given those concerns, what changes might you make?"
   ]
  },
  {
   "cell_type": "code",
   "execution_count": null,
   "metadata": {
    "collapsed": true
   },
   "outputs": [],
   "source": []
  }
 ],
 "metadata": {
  "kernelspec": {
   "display_name": "Python 3",
   "language": "python",
   "name": "python3"
  },
  "language_info": {
   "codemirror_mode": {
    "name": "ipython",
    "version": 3
   },
   "file_extension": ".py",
   "mimetype": "text/x-python",
   "name": "python",
   "nbconvert_exporter": "python",
   "pygments_lexer": "ipython3",
   "version": "3.7.4"
  }
 },
 "nbformat": 4,
 "nbformat_minor": 2
}
